{
  "nbformat": 4,
  "nbformat_minor": 0,
  "metadata": {
    "colab": {
      "provenance": [],
      "mount_file_id": "16g2KQOiTDrzempo54k84Vw0nDTnFpGNV",
      "authorship_tag": "ABX9TyPf2fROIsdGifudHLxCFz2x",
      "include_colab_link": true
    },
    "kernelspec": {
      "name": "python3",
      "display_name": "Python 3"
    },
    "language_info": {
      "name": "python"
    },
    "accelerator": "GPU"
  },
  "cells": [
    {
      "cell_type": "markdown",
      "metadata": {
        "id": "view-in-github",
        "colab_type": "text"
      },
      "source": [
        "<a href=\"https://colab.research.google.com/github/Aminfaraji/dataset_images_IDPL/blob/main/classification_IDPL.ipynb\" target=\"_parent\"><img src=\"https://colab.research.google.com/assets/colab-badge.svg\" alt=\"Open In Colab\"/></a>"
      ]
    },
    {
      "cell_type": "code",
      "execution_count": 24,
      "metadata": {
        "id": "UF15qO0GN6Hw"
      },
      "outputs": [],
      "source": [
        "import glob,os,shutil\n",
        "import tensorflow as tf\n",
        "from google.colab.patches import cv2_imshow\n",
        "from keras.layers import *\n",
        "from keras.applications.efficientnet import *\n",
        "from keras.preprocessing.image import ImageDataGenerator\n",
        "import numpy as np\n",
        "import matplotlib.pyplot as plt\n"
      ]
    },
    {
      "cell_type": "code",
      "source": [
        "train=ImageDataGenerator(rescale=1/255.0)\n",
        "train_gen=train.flow_from_directory(\n",
        "    \"/content/drive/MyDrive/without background\",\n",
        "    target_size=(224,224),\n",
        "    batch_size=20,\n",
        "    class_mode='binary'\n",
        ")"
      ],
      "metadata": {
        "colab": {
          "base_uri": "https://localhost:8080/"
        },
        "id": "lHfZFCKiRleu",
        "outputId": "01169008-e58c-45e3-f15e-7ced61f3a8f9"
      },
      "execution_count": 15,
      "outputs": [
        {
          "output_type": "stream",
          "name": "stdout",
          "text": [
            "Found 13162 images belonging to 21 classes.\n"
          ]
        }
      ]
    },
    {
      "cell_type": "code",
      "source": [
        "for x,i in train_gen:\n",
        "  print(x.shape,\">>>>>>>>>>\",i.shape)\n",
        "  break"
      ],
      "metadata": {
        "colab": {
          "base_uri": "https://localhost:8080/"
        },
        "id": "3YFxqEbalTCe",
        "outputId": "0b4e9e73-3da8-478f-eca8-536c34266c30"
      },
      "execution_count": 18,
      "outputs": [
        {
          "output_type": "stream",
          "name": "stdout",
          "text": [
            "(20, 224, 224, 3) >>>>>>>>>> (20,)\n"
          ]
        }
      ]
    },
    {
      "cell_type": "code",
      "source": [
        "len(train_gen)"
      ],
      "metadata": {
        "colab": {
          "base_uri": "https://localhost:8080/"
        },
        "id": "J67k4FEumIy4",
        "outputId": "e5972abe-2711-40e5-e7b5-8d0cd9c566de"
      },
      "execution_count": 19,
      "outputs": [
        {
          "output_type": "execute_result",
          "data": {
            "text/plain": [
              "659"
            ]
          },
          "metadata": {},
          "execution_count": 19
        }
      ]
    },
    {
      "cell_type": "code",
      "source": [
        "# files=glob.glob(\"/content/drive/MyDrive/without background/*\")\n",
        "# info=\"info.xlsx\"\n",
        "# for file in files:\n",
        "#   try:\n",
        "#       path=os.path.join(file,info)\n",
        "#       os.remove(path)\n",
        "#       print(path)\n",
        "#   except:\n",
        "#     print(\"Not Fount\")\n",
        "#     print(path)\n",
        "\n"
      ],
      "metadata": {
        "id": "U-Yal7meOU33"
      },
      "execution_count": 16,
      "outputs": []
    },
    {
      "cell_type": "code",
      "source": [
        "# main_file=glob.glob(\"/content/drive/MyDrive/without background/*\")\n",
        "# for F in main_file:\n",
        "#   try:\n",
        "#     source_dir = F+'/New paper'\n",
        "#     target_dir = F\n",
        "    \n",
        "#     file_names = os.listdir(source_dir)\n",
        "#     for file_name in file_names:\n",
        "#       shutil.move(os.path.join(source_dir, file_name), target_dir)\n",
        "#     os.rmdir(source_dir)\n",
        "#     print(\"OK\")\n",
        "#   except:\n",
        "#     print(\"Not_file\")"
      ],
      "metadata": {
        "colab": {
          "base_uri": "https://localhost:8080/"
        },
        "id": "bbORkZC7OZ_C",
        "outputId": "5f087bf5-7e44-4c5b-ccc6-b3d6d86583e1"
      },
      "execution_count": 14,
      "outputs": [
        {
          "output_type": "stream",
          "name": "stdout",
          "text": [
            "Not_file\n",
            "Not_file\n",
            "Not_file\n",
            "Not_file\n",
            "Not_file\n",
            "Not_file\n",
            "Not_file\n",
            "Not_file\n",
            "Not_file\n",
            "Not_file\n",
            "Not_file\n",
            "Not_file\n",
            "Not_file\n",
            "Not_file\n",
            "Not_file\n",
            "Not_file\n",
            "OK\n",
            "Not_file\n",
            "Not_file\n",
            "Not_file\n",
            "Not_file\n"
          ]
        }
      ]
    },
    {
      "cell_type": "code",
      "source": [],
      "metadata": {
        "colab": {
          "base_uri": "https://localhost:8080/"
        },
        "id": "p__ZEsMydsQ3",
        "outputId": "795a4267-351b-4fd2-b7d4-fda952e1c309"
      },
      "execution_count": 5,
      "outputs": [
        {
          "output_type": "execute_result",
          "data": {
            "text/plain": [
              "[]"
            ]
          },
          "metadata": {},
          "execution_count": 5
        }
      ]
    },
    {
      "cell_type": "code",
      "source": [],
      "metadata": {
        "id": "ITCnqFBphptQ"
      },
      "execution_count": null,
      "outputs": []
    }
  ]
}