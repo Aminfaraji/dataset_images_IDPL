{
  "nbformat": 4,
  "nbformat_minor": 0,
  "metadata": {
    "colab": {
      "provenance": [],
      "mount_file_id": "https://github.com/Aminfaraji/dataset_images_IDPL/blob/main/classification_IDPL.ipynb",
      "authorship_tag": "ABX9TyNBtqEwjomw5HvwdTsBabOP",
      "include_colab_link": true
    },
    "kernelspec": {
      "name": "python3",
      "display_name": "Python 3"
    },
    "language_info": {
      "name": "python"
    },
    "accelerator": "GPU"
  },
  "cells": [
    {
      "cell_type": "markdown",
      "metadata": {
        "id": "view-in-github",
        "colab_type": "text"
      },
      "source": [
        "<a href=\"https://colab.research.google.com/github/Aminfaraji/dataset_images_IDPL/blob/main/classification_IDPL.ipynb\" target=\"_parent\"><img src=\"https://colab.research.google.com/assets/colab-badge.svg\" alt=\"Open In Colab\"/></a>"
      ]
    },
    {
      "cell_type": "code",
      "execution_count": 23,
      "metadata": {
        "id": "UF15qO0GN6Hw"
      },
      "outputs": [],
      "source": [
        "import glob,os,shutil,random\n",
        "import tensorflow as tf\n",
        "from google.colab.patches import cv2_imshow\n",
        "from keras.layers import *\n",
        "from keras import *\n",
        "from keras.optimizer_v1 import *\n",
        "from keras.applications.efficientnet import *\n",
        "from keras.preprocessing.image import *\n",
        "import numpy as np\n",
        "import matplotlib.pyplot as plt\n",
        "from tensorflow.python.ops import losses"
      ]
    },
    {
      "cell_type": "code",
      "source": [
        "train=ImageDataGenerator(rescale=1/255.0)\n",
        "                        #  zoom_range=20,\n",
        "                        #  rotation_range=45,\n",
        "                        #  width_shift_range=.2,\n",
        "                        #  height_shift_range=0.2,\n",
        "                        #  shear_range=0.2,\n",
        "                        #  horizontal_flip=True,\n",
        "                        #  fill_mode='constant',\n",
        "                        #  cval=125)\n",
        "test=ImageDataGenerator(rescale=1/255.0)\n",
        "                        #  zoom_range=20,\n",
        "                        #  rotation_range=45,\n",
        "                        #  width_shift_range=.2,\n",
        "                        #  height_shift_range=0.2,\n",
        "                        #  shear_range=0.2,\n",
        "                        #  horizontal_flip=True,\n",
        "                        #  fill_mode='constant',\n",
        "                        #  cval=125)\n",
        "train_gen=train.flow_from_directory(\n",
        "    \"/content/drive/MyDrive/without background/train\",\n",
        "    target_size=(112,112),\n",
        "    batch_size=20,\n",
        "    class_mode='sparse'\n",
        ")\n",
        "test_gen=test.flow_from_directory(\n",
        "    \"/content/drive/MyDrive/without background/test\",\n",
        "    target_size=(112,112),\n",
        "    batch_size=20,\n",
        "    class_mode='sparse'\n",
        ")"
      ],
      "metadata": {
        "colab": {
          "base_uri": "https://localhost:8080/"
        },
        "id": "lHfZFCKiRleu",
        "outputId": "469967ae-303d-43bc-f637-53a25860df2d"
      },
      "execution_count": 57,
      "outputs": [
        {
          "output_type": "stream",
          "name": "stdout",
          "text": [
            "Found 12484 images belonging to 21 classes.\n",
            "Found 630 images belonging to 21 classes.\n"
          ]
        }
      ]
    },
    {
      "cell_type": "code",
      "source": [
        "class_names=['Bank Document1',\n",
        " 'Bank Document2',\n",
        " 'Bank Document3',\n",
        " 'Bank Document4',\n",
        " 'Birth Certificate1_page1',\n",
        " 'Birth Certificate1_page2',\n",
        " 'Birth Certificate2_page1',\n",
        " 'Birth Certificate2_page2',\n",
        " 'Birth Certificate2_page3',\n",
        " 'Birth Certificate2_page4',\n",
        " 'Electricity Bill',\n",
        " 'Gas Bill',\n",
        " 'Identity Card1',\n",
        " 'Identity Card2',\n",
        " 'Military  Service Card1',\n",
        " 'Military  Service Card2',\n",
        " 'New paper',\n",
        " 'Water Bill',\n",
        " 'magazine',\n",
        " 'paper',\n",
        " 'passport']"
      ],
      "metadata": {
        "id": "Gatczu7w0MQJ"
      },
      "execution_count": 80,
      "outputs": []
    },
    {
      "cell_type": "code",
      "source": [
        "model=tf.keras.applications.VGG16(False,input_shape=(112,112,3))\n",
        "model.trainable=False\n",
        "\n",
        "\n",
        "x=Flatten()(model.output)\n",
        "x=Dense(64,activation='relu')(x)\n",
        "x=BatchNormalization()(x)\n",
        "x=Dropout(.25)(x)\n",
        "\n",
        "x=Dense(64,activation='relu')(x)\n",
        "x=BatchNormalization()(x)\n",
        "x=Dropout(.25)(x)\n",
        "\n",
        "\n",
        "x=Dense(21,'softmax')(x)\n",
        "\n",
        "model=Model(inputs=model.input,outputs=x)\n",
        "model.summary()"
      ],
      "metadata": {
        "colab": {
          "base_uri": "https://localhost:8080/"
        },
        "id": "p__ZEsMydsQ3",
        "outputId": "259380ae-61ff-40b5-9494-eb680504cc6c"
      },
      "execution_count": 59,
      "outputs": [
        {
          "output_type": "stream",
          "name": "stdout",
          "text": [
            "Model: \"model_13\"\n",
            "_________________________________________________________________\n",
            " Layer (type)                Output Shape              Param #   \n",
            "=================================================================\n",
            " input_18 (InputLayer)       [(None, 112, 112, 3)]     0         \n",
            "                                                                 \n",
            " block1_conv1 (Conv2D)       (None, 112, 112, 64)      1792      \n",
            "                                                                 \n",
            " block1_conv2 (Conv2D)       (None, 112, 112, 64)      36928     \n",
            "                                                                 \n",
            " block1_pool (MaxPooling2D)  (None, 56, 56, 64)        0         \n",
            "                                                                 \n",
            " block2_conv1 (Conv2D)       (None, 56, 56, 128)       73856     \n",
            "                                                                 \n",
            " block2_conv2 (Conv2D)       (None, 56, 56, 128)       147584    \n",
            "                                                                 \n",
            " block2_pool (MaxPooling2D)  (None, 28, 28, 128)       0         \n",
            "                                                                 \n",
            " block3_conv1 (Conv2D)       (None, 28, 28, 256)       295168    \n",
            "                                                                 \n",
            " block3_conv2 (Conv2D)       (None, 28, 28, 256)       590080    \n",
            "                                                                 \n",
            " block3_conv3 (Conv2D)       (None, 28, 28, 256)       590080    \n",
            "                                                                 \n",
            " block3_pool (MaxPooling2D)  (None, 14, 14, 256)       0         \n",
            "                                                                 \n",
            " block4_conv1 (Conv2D)       (None, 14, 14, 512)       1180160   \n",
            "                                                                 \n",
            " block4_conv2 (Conv2D)       (None, 14, 14, 512)       2359808   \n",
            "                                                                 \n",
            " block4_conv3 (Conv2D)       (None, 14, 14, 512)       2359808   \n",
            "                                                                 \n",
            " block4_pool (MaxPooling2D)  (None, 7, 7, 512)         0         \n",
            "                                                                 \n",
            " block5_conv1 (Conv2D)       (None, 7, 7, 512)         2359808   \n",
            "                                                                 \n",
            " block5_conv2 (Conv2D)       (None, 7, 7, 512)         2359808   \n",
            "                                                                 \n",
            " block5_conv3 (Conv2D)       (None, 7, 7, 512)         2359808   \n",
            "                                                                 \n",
            " block5_pool (MaxPooling2D)  (None, 3, 3, 512)         0         \n",
            "                                                                 \n",
            " flatten_11 (Flatten)        (None, 4608)              0         \n",
            "                                                                 \n",
            " dense_40 (Dense)            (None, 64)                294976    \n",
            "                                                                 \n",
            " batch_normalization_24 (Bat  (None, 64)               256       \n",
            " chNormalization)                                                \n",
            "                                                                 \n",
            " dropout_24 (Dropout)        (None, 64)                0         \n",
            "                                                                 \n",
            " dense_41 (Dense)            (None, 64)                4160      \n",
            "                                                                 \n",
            " batch_normalization_25 (Bat  (None, 64)               256       \n",
            " chNormalization)                                                \n",
            "                                                                 \n",
            " dropout_25 (Dropout)        (None, 64)                0         \n",
            "                                                                 \n",
            " dense_42 (Dense)            (None, 21)                1365      \n",
            "                                                                 \n",
            "=================================================================\n",
            "Total params: 15,015,701\n",
            "Trainable params: 300,757\n",
            "Non-trainable params: 14,714,944\n",
            "_________________________________________________________________\n"
          ]
        }
      ]
    },
    {
      "cell_type": "code",
      "source": [
        "# from keras.losses import SparseCategoricalCrossentropy\n",
        "# loss_=SparseCategoricalCrossentropy(from_logits=False)\n",
        "# model.compile('adam',loss=loss_,metrics=['acc'])\n",
        "model.load_weights(\"/content/drive/MyDrive/model_IDPL.h5\")"
      ],
      "metadata": {
        "id": "Rl35E1A4SZ19"
      },
      "execution_count": 60,
      "outputs": []
    },
    {
      "cell_type": "code",
      "source": [
        "history = model.fit_generator(train_gen,\n",
        "                              steps_per_epoch=20,\n",
        "                              epochs=10,\n",
        "                              validation_data=test_gen,\n",
        "                              validation_steps=10)"
      ],
      "metadata": {
        "id": "9VMlSuKDUzp4",
        "outputId": "f952c796-0b92-46ad-d2c9-b914d48eddc7",
        "colab": {
          "base_uri": "https://localhost:8080/"
        }
      },
      "execution_count": 61,
      "outputs": [
        {
          "output_type": "stream",
          "name": "stderr",
          "text": [
            "/usr/local/lib/python3.7/dist-packages/ipykernel_launcher.py:5: UserWarning: `Model.fit_generator` is deprecated and will be removed in a future version. Please use `Model.fit`, which supports generators.\n",
            "  \"\"\"\n"
          ]
        },
        {
          "output_type": "stream",
          "name": "stdout",
          "text": [
            "Epoch 1/10\n",
            "20/20 [==============================] - 452s 23s/step - loss: 1.8905 - acc: 0.4975 - val_loss: 2.2703 - val_acc: 0.3400\n",
            "Epoch 2/10\n",
            "20/20 [==============================] - 380s 19s/step - loss: 0.8132 - acc: 0.8325 - val_loss: 1.7185 - val_acc: 0.6300\n",
            "Epoch 3/10\n",
            "20/20 [==============================] - 366s 18s/step - loss: 0.5573 - acc: 0.9150 - val_loss: 1.3229 - val_acc: 0.6900\n",
            "Epoch 4/10\n",
            "20/20 [==============================] - 320s 16s/step - loss: 0.3928 - acc: 0.9450 - val_loss: 0.9050 - val_acc: 0.8550\n",
            "Epoch 5/10\n",
            "20/20 [==============================] - 326s 16s/step - loss: 0.2839 - acc: 0.9725 - val_loss: 0.5638 - val_acc: 0.9650\n",
            "Epoch 6/10\n",
            "20/20 [==============================] - 296s 15s/step - loss: 0.2123 - acc: 0.9750 - val_loss: 0.4385 - val_acc: 0.9550\n",
            "Epoch 7/10\n",
            "20/20 [==============================] - 260s 13s/step - loss: 0.2027 - acc: 0.9625 - val_loss: 0.2885 - val_acc: 0.9750\n",
            "Epoch 8/10\n",
            "20/20 [==============================] - 252s 13s/step - loss: 0.1769 - acc: 0.9750 - val_loss: 0.1658 - val_acc: 0.9950\n",
            "Epoch 9/10\n",
            "20/20 [==============================] - 248s 12s/step - loss: 0.1445 - acc: 0.9800 - val_loss: 0.1278 - val_acc: 0.9800\n",
            "Epoch 10/10\n",
            "20/20 [==============================] - 245s 12s/step - loss: 0.1451 - acc: 0.9850 - val_loss: 0.0855 - val_acc: 0.9950\n"
          ]
        }
      ]
    },
    {
      "cell_type": "code",
      "source": [
        "model.save_weights(\"/content/drive/MyDrive/model_IDPL.h5\")"
      ],
      "metadata": {
        "id": "NbqM0YC5Vsdw"
      },
      "execution_count": 62,
      "outputs": []
    },
    {
      "cell_type": "code",
      "source": [
        "img_test,classes=test_gen[5][0][15],test_gen[5][1][15]\n",
        "img_test=img_test.reshape((1,112,112,3))"
      ],
      "metadata": {
        "id": "m5xj7YegybDj"
      },
      "execution_count": 82,
      "outputs": []
    },
    {
      "cell_type": "code",
      "source": [
        "class_names[model.predict(img_test).argmax()]"
      ],
      "metadata": {
        "id": "vmHATuTKy5pE",
        "outputId": "57d18d6f-3ba0-463a-86fb-9b73d5aac3b2",
        "colab": {
          "base_uri": "https://localhost:8080/",
          "height": 35
        }
      },
      "execution_count": 83,
      "outputs": [
        {
          "output_type": "execute_result",
          "data": {
            "text/plain": [
              "'Identity Card1'"
            ],
            "application/vnd.google.colaboratory.intrinsic+json": {
              "type": "string"
            }
          },
          "metadata": {},
          "execution_count": 83
        }
      ]
    },
    {
      "cell_type": "code",
      "source": [
        "plt.matshow(img_test.reshape((112,112,3)))"
      ],
      "metadata": {
        "id": "qVEX64puzqYl",
        "outputId": "c74c5ea9-151f-428b-b552-58322cf8966a",
        "colab": {
          "base_uri": "https://localhost:8080/",
          "height": 292
        }
      },
      "execution_count": 84,
      "outputs": [
        {
          "output_type": "execute_result",
          "data": {
            "text/plain": [
              "<matplotlib.image.AxesImage at 0x7fcb49962410>"
            ]
          },
          "metadata": {},
          "execution_count": 84
        },
        {
          "output_type": "display_data",
          "data": {
            "text/plain": [
              "<Figure size 288x288 with 1 Axes>"
            ],
            "image/png": "[encoded data removed]"
          },
          "metadata": {
            "needs_background": "light"
          }
        }
      ]
    },
    {
      "cell_type": "code",
      "source": [],
      "metadata": {
        "id": "XPm0Np2jz3bM"
      },
      "execution_count": null,
      "outputs": []
    }
  ]
}