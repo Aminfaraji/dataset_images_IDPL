{
  "nbformat": 4,
  "nbformat_minor": 0,
  "metadata": {
    "colab": {
      "provenance": [],
      "authorship_tag": "ABX9TyMBNOXSR9QsVilpW4Jd+zYN",
      "include_colab_link": true
    },
    "kernelspec": {
      "name": "python3",
      "display_name": "Python 3"
    },
    "language_info": {
      "name": "python"
    },
    "accelerator": "GPU"
  },
  "cells": [
    {
      "cell_type": "markdown",
      "metadata": {
        "id": "view-in-github",
        "colab_type": "text"
      },
      "source": [
        "<a href=\"https://colab.research.google.com/github/Aminfaraji/dataset_images_IDPL/blob/main/classification_IDPL.ipynb\" target=\"_parent\"><img src=\"https://colab.research.google.com/assets/colab-badge.svg\" alt=\"Open In Colab\"/></a>"
      ]
    },
    {
      "cell_type": "code",
      "execution_count": 18,
      "metadata": {
        "id": "UF15qO0GN6Hw"
      },
      "outputs": [],
      "source": [
        "import glob,os,shutil,random\n",
        "import tensorflow as tf\n",
        "from google.colab.patches import cv2_imshow\n",
        "from keras.layers import *\n",
        "from keras import *\n",
        "from keras.applications.efficientnet import *\n",
        "from keras.utils import load_img,img_to_array\n",
        "import numpy as np\n",
        "import matplotlib.pyplot as plt\n",
        "from tensorflow.python.ops import losses"
      ]
    },
    {
      "cell_type": "code",
      "source": [
        "from google.colab import drive\n",
        "drive.mount('/content/drive')"
      ],
      "metadata": {
        "id": "4ECbtR6f5uY0",
        "outputId": "2d8ac8cf-f308-42bf-8288-c7167d297be8",
        "colab": {
          "base_uri": "https://localhost:8080/"
        }
      },
      "execution_count": 1,
      "outputs": [
        {
          "output_type": "stream",
          "name": "stdout",
          "text": [
            "Mounted at /content/drive\n"
          ]
        }
      ]
    },
    {
      "cell_type": "code",
      "source": [
        "train=ImageDataGenerator(rescale=1/255.0)\n",
        "                        #  zoom_range=20,\n",
        "                        #  rotation_range=45,\n",
        "                        #  width_shift_range=.2,\n",
        "                        #  height_shift_range=0.2,\n",
        "                        #  shear_range=0.2,\n",
        "                        #  horizontal_flip=True,\n",
        "                        #  fill_mode='constant',\n",
        "                        #  cval=125)\n",
        "test=ImageDataGenerator(rescale=1/255.0)\n",
        "                        #  zoom_range=20,\n",
        "                        #  rotation_range=45,\n",
        "                        #  width_shift_range=.2,\n",
        "                        #  height_shift_range=0.2,\n",
        "                        #  shear_range=0.2,\n",
        "                        #  horizontal_flip=True,\n",
        "                        #  fill_mode='constant',\n",
        "                        #  cval=125)\n",
        "train_gen=train.flow_from_directory(\n",
        "    \"/content/drive/MyDrive/without background/train\",\n",
        "    target_size=(112,112),\n",
        "    batch_size=20,\n",
        "    class_mode='sparse'\n",
        ")\n",
        "test_gen=test.flow_from_directory(\n",
        "    \"/content/drive/MyDrive/without background/test\",\n",
        "    target_size=(112,112),\n",
        "    batch_size=20,\n",
        "    class_mode='sparse'\n",
        ")"
      ],
      "metadata": {
        "colab": {
          "base_uri": "https://localhost:8080/"
        },
        "id": "lHfZFCKiRleu",
        "outputId": "5d8a41fc-18d5-4ed3-d4bd-4b60a6b10fd9"
      },
      "execution_count": 17,
      "outputs": [
        {
          "output_type": "stream",
          "name": "stdout",
          "text": [
            "Found 12484 images belonging to 21 classes.\n",
            "Found 630 images belonging to 21 classes.\n"
          ]
        }
      ]
    },
    {
      "cell_type": "code",
      "source": [
        "class_names=['Bank Document1',\n",
        " 'Bank Document2',\n",
        " 'Bank Document3',\n",
        " 'Bank Document4',\n",
        " 'Birth Certificate1_page1',\n",
        " 'Birth Certificate1_page2',\n",
        " 'Birth Certificate2_page1',\n",
        " 'Birth Certificate2_page2',\n",
        " 'Birth Certificate2_page3',\n",
        " 'Birth Certificate2_page4',\n",
        " 'Electricity Bill',\n",
        " 'Gas Bill',\n",
        " 'Identity Card1',\n",
        " 'Identity Card2',\n",
        " 'Military  Service Card1',\n",
        " 'Military  Service Card2',\n",
        " 'New paper',\n",
        " 'Water Bill',\n",
        " 'magazine',\n",
        " 'paper',\n",
        " 'passport']"
      ],
      "metadata": {
        "id": "Gatczu7w0MQJ"
      },
      "execution_count": 11,
      "outputs": []
    },
    {
      "cell_type": "code",
      "source": [
        "model=tf.keras.applications.VGG16(False,input_shape=(112,112,3))\n",
        "model.trainable=False\n",
        "\n",
        "\n",
        "x=Flatten()(model.output)\n",
        "x=Dense(64,activation='relu')(x)\n",
        "x=BatchNormalization()(x)\n",
        "x=Dropout(.25)(x)\n",
        "\n",
        "x=Dense(64,activation='relu')(x)\n",
        "x=BatchNormalization()(x)\n",
        "x=Dropout(.25)(x)\n",
        "\n",
        "\n",
        "x=Dense(21,'softmax')(x)\n",
        "\n",
        "model=Model(inputs=model.input,outputs=x)\n",
        "# model.summary()"
      ],
      "metadata": {
        "id": "p__ZEsMydsQ3"
      },
      "execution_count": 12,
      "outputs": []
    },
    {
      "cell_type": "code",
      "source": [
        "from keras.losses import SparseCategoricalCrossentropy\n",
        "loss_=SparseCategoricalCrossentropy(from_logits=False)\n",
        "model.compile('adam',loss=loss_,metrics=['acc'])\n",
        "model.load_weights(\"/content/drive/MyDrive/model_IDPL.h5\")"
      ],
      "metadata": {
        "id": "Rl35E1A4SZ19"
      },
      "execution_count": 39,
      "outputs": []
    },
    {
      "cell_type": "code",
      "source": [
        "# history = model.fit_generator(train_gen,\n",
        "#                               steps_per_epoch=20,\n",
        "#                               epochs=10,\n",
        "#                               validation_data=test_gen,\n",
        "#                               validation_steps=10)"
      ],
      "metadata": {
        "id": "9VMlSuKDUzp4"
      },
      "execution_count": 9,
      "outputs": []
    },
    {
      "cell_type": "code",
      "source": [
        "# model.save_weights(\"/content/drive/MyDrive/model_IDPL.h5\")"
      ],
      "metadata": {
        "id": "NbqM0YC5Vsdw"
      },
      "execution_count": null,
      "outputs": []
    },
    {
      "cell_type": "code",
      "source": [
        "# img_test,classes=test_gen[5][0][15],test_gen[5][1][15]\n",
        "# img_test=img_test.reshape((1,112,112,3))\n",
        "img_test=img_to_array(load_img(\"/content/C11B1S00015.jpg\",target_size=(112,112))).reshape((1,112,112,3))"
      ],
      "metadata": {
        "id": "m5xj7YegybDj"
      },
      "execution_count": 41,
      "outputs": []
    },
    {
      "cell_type": "code",
      "source": [
        "# class_names[model.predict(img_test).argmax()]\n",
        "# model.evaluate_generator(test_gen)"
      ],
      "metadata": {
        "id": "vmHATuTKy5pE",
        "outputId": "c98ecd20-481a-40ff-a86c-a88128e7131a",
        "colab": {
          "base_uri": "https://localhost:8080/",
          "height": 53
        }
      },
      "execution_count": 42,
      "outputs": [
        {
          "output_type": "stream",
          "name": "stdout",
          "text": [
            "1/1 [==============================] - 0s 152ms/step\n"
          ]
        },
        {
          "output_type": "execute_result",
          "data": {
            "text/plain": [
              "'New paper'"
            ],
            "application/vnd.google.colaboratory.intrinsic+json": {
              "type": "string"
            }
          },
          "metadata": {},
          "execution_count": 42
        }
      ]
    },
    {
      "cell_type": "code",
      "source": [
        "# plt.matshow(img_test.reshape((112,112,3)))"
      ],
      "metadata": {
        "id": "qVEX64puzqYl",
        "outputId": "25a9fd16-5190-48ff-ac5a-9a63dd770ae5",
        "colab": {
          "base_uri": "https://localhost:8080/"
        }
      },
      "execution_count": 36,
      "outputs": [
        {
          "output_type": "execute_result",
          "data": {
            "text/plain": [
              "3.0"
            ]
          },
          "metadata": {},
          "execution_count": 36
        }
      ]
    },
    {
      "cell_type": "code",
      "source": [],
      "metadata": {
        "id": "XPm0Np2jz3bM"
      },
      "execution_count": null,
      "outputs": []
    }
  ]
}